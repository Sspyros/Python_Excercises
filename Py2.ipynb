{
 "cells": [
  {
   "cell_type": "code",
   "execution_count": 8,
   "metadata": {},
   "outputs": [
    {
     "name": "stdout",
     "output_type": "stream",
     "text": [
      "List_1 = ['5', '8', '11', '111']\n",
      "List_2 = ['3', '23', '25', '44', '75', '88', '100', '112']\n"
     ]
    }
   ],
   "source": [
    "with open('commands.txt', 'r') as file:\n",
    "\tread_data = file.readlines()\n",
    "file.close()\n",
    "\n",
    "import re\n",
    "command_re = re.compile('(?<=^switchport trunk allowed vlan\\s)(.+)')\n",
    "\n",
    "vlans, vlans_list, unique_vlans = [],[], []\n",
    "for line in read_data:\n",
    "    command = command_re.search(line)\n",
    "    if command:\n",
    "        vlans.append(command.group(1))\n",
    "\n",
    "for line in vlans:\n",
    "    vlans_list.append(line.replace(\" \", \"\").split(','))\n",
    "flat_list = [item for sublist in vlans_list for item in sublist]\n",
    "for vlan in flat_list:\n",
    "    if flat_list.count(vlan) == 1: unique_vlans.append(vlan)\n",
    "for vset in vlans_list:\n",
    "    common_vlans = list(set(common_vlans).intersection(vset))\n",
    "\n",
    "print('List_1 =',sorted(common_vlans, key=int))\n",
    "print('List_2 =',sorted(unique_vlans, key=int))\n"
   ]
  }
 ],
 "metadata": {
  "kernelspec": {
   "display_name": "Python 3",
   "language": "python",
   "name": "python3"
  },
  "language_info": {
   "codemirror_mode": {
    "name": "ipython",
    "version": 3
   },
   "file_extension": ".py",
   "mimetype": "text/x-python",
   "name": "python",
   "nbconvert_exporter": "python",
   "pygments_lexer": "ipython3",
   "version": "3.6.3"
  }
 },
 "nbformat": 4,
 "nbformat_minor": 2
}
