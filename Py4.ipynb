{
 "cells": [
  {
   "cell_type": "code",
   "execution_count": 5,
   "metadata": {},
   "outputs": [
    {
     "name": "stdout",
     "output_type": "stream",
     "text": [
      "Enter interface mode (access/trunk):access\n",
      "Enter interface type and number:fa2/1\n",
      "Enter VLAN number: 5\n",
      "Interface fa2/1\n",
      "switchport mode access\n",
      "switchport access vlan 5\n",
      "switchport nonegotiate\n",
      "spanning-tree portfast\n",
      "spanning-tree bpduguard enable\n"
     ]
    }
   ],
   "source": [
    "access_template = ['switchport mode access',\n",
    "\n",
    "'switchport access vlan {}',\n",
    "\n",
    "'switchport nonegotiate',\n",
    "\n",
    "'spanning-tree portfast',\n",
    "\n",
    "'spanning-tree bpduguard enable']\n",
    "\n",
    "trunk_template = ['switchport trunk encapsulation dot1q',\n",
    "\n",
    "'switchport mode trunk',\n",
    "\n",
    "'switchport trunk allowed vlan {}']\n",
    "import pprint\n",
    "\n",
    "if_mode = input('Enter interface mode (access/trunk):')\n",
    "if_type = input('Enter interface type and number:')\n",
    "if if_mode in ['access']:\n",
    "    option = input('Enter VLAN number: ')\n",
    "    if_mode_template = access_template\n",
    "elif if_mode in ['trunk']:\n",
    "    option = input('Enter allowed VLANs: ')\n",
    "    if_mode_template = trunk_template\n",
    "\n",
    "print('Interface {}'.format(if_type))\n",
    "for config in if_mode_template:\n",
    "    print(config.format(option))"
   ]
  }
 ],
 "metadata": {
  "kernelspec": {
   "display_name": "Python 3",
   "language": "python",
   "name": "python3"
  },
  "language_info": {
   "codemirror_mode": {
    "name": "ipython",
    "version": 3
   },
   "file_extension": ".py",
   "mimetype": "text/x-python",
   "name": "python",
   "nbconvert_exporter": "python",
   "pygments_lexer": "ipython3",
   "version": "3.6.3"
  }
 },
 "nbformat": 4,
 "nbformat_minor": 2
}
