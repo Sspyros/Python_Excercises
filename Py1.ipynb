{
 "cells": [
  {
   "cell_type": "code",
   "execution_count": 14,
   "metadata": {},
   "outputs": [
    {
     "name": "stdout",
     "output_type": "stream",
     "text": [
      "Enter ip address:10.2.3.4\n",
      "Enter subnet mask: /15\n",
      "      10         2         3         4\n",
      "00001010  00000010  00000011  00000100  \n",
      "network address is: 10.2.0.0/15\n",
      "broadcast address is: 10.3.255.255/15\n"
     ]
    }
   ],
   "source": [
    "import re\n",
    "\n",
    "match_ip, match_sub = 0, 0\n",
    "ip_bin, broadcast_bin ='', ''\n",
    "ip_addr_re = re.compile('^(2[0-4][0-9]|25[0-5]|1[0-9][0-9]|[0-9][0-9]|[0-9])\\.(2[0-4][0-9]|25[0-5]|1[0-9][0-9]|[0-9][0-9]|[0-9])\\.(2[0-4][0-9]|25[0-5]|1[0-9][0-9]|[0-9][0-9]|[0-9])\\.(2[0-4][0-9]|25[0-5]|1[0-9][0-9]|[0-9][0-9]|[0-9])$')\n",
    "subnet_mask_re = re.compile('([89]|[12]\\d{1}|30)')\n",
    "\n",
    "while not match_ip:\n",
    "    ip_addr = input('Enter ip address:')\n",
    "    match_ip = ip_addr_re.search(ip_addr).group(0)\n",
    "    if not match_ip:\n",
    "        print('Invalid IP address format')\n",
    "\n",
    "while not match_sub:\n",
    "        subnet_mask = input('Enter subnet mask: /')\n",
    "        match_sub = subnet_mask_re.search(subnet_mask).group(0)\n",
    "        if not match_sub:\n",
    "            print('Subnet mask is invalid')\n",
    "\n",
    "for i in match_ip.split('.'):\n",
    "    ip_bin+=bin(int(i))[2:].zfill(8)\n",
    "\n",
    "match_ip = match_ip.split('.')\n",
    "print('{0:>8}  {1:>8}  {2:>8}  {3:>8}'.format(match_ip[0],match_ip[1],match_ip[2],match_ip[3]))\n",
    "print('{0:10}{1:10}{2:10}{3:10}'.format(ip_bin[0:8],ip_bin[8:16],ip_bin[16:24],ip_bin[24:32]))\n",
    "\n",
    "broadcast_bin = ip_bin[:int(match_sub)] + '1' * (32 - int(match_sub))\n",
    "ip_bin = ip_bin[:int(match_sub)] + '0' * (32 - int(match_sub))\n",
    "\n",
    "print('network address is: {}.{}.{}.{}/{}'.format(int(ip_bin[0:8], 2),int(ip_bin[8:16], 2),int(ip_bin[16:24], 2),int(ip_bin[24:32], 2),subnet_mask))\n",
    "print('broadcast address is: {}.{}.{}.{}/{}'.format(int(broadcast_bin[0:8], 2),int(broadcast_bin[8:16], 2),int(broadcast_bin[16:24], 2),int(broadcast_bin[24:32], 2),subnet_mask))"
   ]
  }
 ],
 "metadata": {
  "kernelspec": {
   "display_name": "Python 3",
   "language": "python",
   "name": "python3"
  },
  "language_info": {
   "codemirror_mode": {
    "name": "ipython",
    "version": 3
   },
   "file_extension": ".py",
   "mimetype": "text/x-python",
   "name": "python",
   "nbconvert_exporter": "python",
   "pygments_lexer": "ipython3",
   "version": "3.6.3"
  }
 },
 "nbformat": 4,
 "nbformat_minor": 2
}
